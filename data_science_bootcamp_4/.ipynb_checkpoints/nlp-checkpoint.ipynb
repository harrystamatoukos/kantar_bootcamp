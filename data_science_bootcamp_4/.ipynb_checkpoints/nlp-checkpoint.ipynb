{
 "cells": [
  {
   "cell_type": "markdown",
   "metadata": {},
   "source": [
    "# Natural Language Processing"
   ]
  },
  {
   "cell_type": "markdown",
   "metadata": {},
   "source": [
    "# Text processing "
   ]
  },
  {
   "cell_type": "code",
   "execution_count": 36,
   "metadata": {},
   "outputs": [],
   "source": [
    "import pandas as pd\n",
    "import numpy as np\n",
    "import scipy as sp\n",
    "\n",
    "from sklearn.model_selection import train_test_split\n",
    "from sklearn.feature_extraction.text import CountVectorizer\n",
    "from sklearn.linear_model import LogisticRegression\n",
    "\n",
    "from sklearn import metrics"
   ]
  },
  {
   "cell_type": "markdown",
   "metadata": {},
   "source": [
    "### Goal: build a model that will predict whether some review is 5 stars or 1 star"
   ]
  },
  {
   "cell_type": "code",
   "execution_count": null,
   "metadata": {},
   "outputs": [],
   "source": [
    "'yelp.csv'"
   ]
  },
  {
   "cell_type": "code",
   "execution_count": 15,
   "metadata": {},
   "outputs": [],
   "source": [
    "#Read yelp reviews into a DataFrame\n",
    "yelp = pd.read_csv('data/yelp.csv')\n",
    "\n",
    "#Create a dataframe that only contains 5 star and 1 star reviews\n",
    "best_worst = yelp[(yelp.stars == 5)| (yelp.stars ==1)]\n",
    "\n",
    "#Define X and y\n",
    "X = best_worst.text\n",
    "y = best_worst.stars\n",
    "\n",
    "#Split in training and testing sets\n",
    "X_train, X_test, y_train, y_test  = train_test_split(X, y , random_state = 1)"
   ]
  },
  {
   "cell_type": "markdown",
   "metadata": {},
   "source": [
    "# Creating Features with Count Vectorizer"
   ]
  },
  {
   "cell_type": "code",
   "execution_count": 9,
   "metadata": {},
   "outputs": [],
   "source": [
    "#Use Countvectorizer to create a document-term matrix from X_train and X_test\n",
    "from sklearn.feature_extraction.text import CountVectorizer\n",
    "\n",
    "vect = CountVectorizer()\n",
    "\n",
    "X_train_dtm = vect.fit_transform(X_train)\n",
    "X_test_dtm = vect.transform(X_test)"
   ]
  },
  {
   "cell_type": "code",
   "execution_count": 28,
   "metadata": {},
   "outputs": [],
   "source": [
    "#Check out the names of our features\n",
    "vect.get_feature_names()"
   ]
  },
  {
   "cell_type": "code",
   "execution_count": 64,
   "metadata": {},
   "outputs": [],
   "source": [
    "# Intatntiate a model with sag solver\n",
    "lr = LogisticRegression(solver='sag')\n",
    "\n",
    "#Fit the model on the document-term matrix data\n",
    "lr.fit(X_train_dtm, y_train)\n",
    "\n",
    "#Create a list with predictions on testing data\n",
    "y_pred = lr.predict(X_test_dtm)\n",
    "\n",
    "#Print the accuracy score \n",
    "print(metrics.accuracy_score(y_test, y_pred))\n",
    "\n",
    "#Print baseline accuracy\n",
    "print(best_worst.stars.value_counts(normalize=True))\n"
   ]
  },
  {
   "cell_type": "markdown",
   "metadata": {},
   "source": [
    "# N-grams"
   ]
  },
  {
   "cell_type": "markdown",
   "metadata": {},
   "source": [
    "N-grams are feauter which consist of N consecutive words\n",
    "```\n",
    "- Unigram :1-gram - 'my', 'cat','is','awesome'\n",
    "- Bigram : 2-gram -> 'my cat', 'cat is', 'is awesome'\n",
    "- Trigram: 3-gram -> 'my cat is', 'cat is awesome'\n",
    "\n",
    "```\n"
   ]
  },
  {
   "cell_type": "code",
   "execution_count": 76,
   "metadata": {},
   "outputs": [],
   "source": [
    "#Intantiate a vectorizer that include bigrams\n",
    "vect = CountVectorizer(ngram_range=(1,2))"
   ]
  },
  {
   "cell_type": "code",
   "execution_count": 77,
   "metadata": {},
   "outputs": [],
   "source": [
    "#Create  document-term matrices\n",
    "X_train_dtm = vect.fit_transform(X_train)\n",
    "X_test_dtm = vect.transform(X_test)"
   ]
  },
  {
   "cell_type": "code",
   "execution_count": 80,
   "metadata": {},
   "outputs": [
    {
     "name": "stdout",
     "output_type": "stream",
     "text": [
      "0.9344422700587084\n"
     ]
    }
   ],
   "source": [
    "#Use Logistic Regression to predict star rating\n",
    "lr = LogisticRegression(solver='sag', max_iter = 10_000)\n",
    "\n",
    "#Fit the model on the document-term matrix data\n",
    "lr.fit(X_train_dtm, y_train)\n",
    "\n",
    "#Create a list with predictions on testing data\n",
    "y_pred = lr.predict(X_test_dtm)\n",
    "\n",
    "#Print the accuracy score \n",
    "print(metrics.accuracy_score(y_test, y_pred))"
   ]
  },
  {
   "cell_type": "markdown",
   "metadata": {},
   "source": [
    "# Stop words "
   ]
  },
  {
   "cell_type": "markdown",
   "metadata": {},
   "source": [
    "What are Stop words :\n",
    "Why ? "
   ]
  },
  {
   "cell_type": "code",
   "execution_count": 100,
   "metadata": {},
   "outputs": [],
   "source": [
    "vect = CountVectorizer(stop_words ='english',ngram_range=(1,2), max_features, min_df = 2)"
   ]
  },
  {
   "cell_type": "code",
   "execution_count": 101,
   "metadata": {},
   "outputs": [],
   "source": [
    "#Create  document-term matrices\n",
    "X_train_dtm = vect.fit_transform(X_train)\n",
    "X_test_dtm = vect.transform(X_test)"
   ]
  },
  {
   "cell_type": "code",
   "execution_count": 102,
   "metadata": {},
   "outputs": [
    {
     "name": "stdout",
     "output_type": "stream",
     "text": [
      "0.9324853228962818\n"
     ]
    }
   ],
   "source": [
    "#Use Logistic Regression to predict star rating\n",
    "lr = LogisticRegression(solver='sag', max_iter = 1000)\n",
    "\n",
    "#Fit the model on the document-term matrix data\n",
    "lr.fit(X_train_dtm, y_train)\n",
    "\n",
    "#Create a list with predictions on testing data\n",
    "y_pred = lr.predict(X_test_dtm)\n",
    "\n",
    "#Print the accuracy score \n",
    "print(metrics.accuracy_score(y_test, y_pred))"
   ]
  },
  {
   "cell_type": "markdown",
   "metadata": {},
   "source": [
    "# Stemming and Lemmatization"
   ]
  },
  {
   "cell_type": "code",
   "execution_count": null,
   "metadata": {},
   "outputs": [],
   "source": [
    "Learn, Learner, Learning"
   ]
  },
  {
   "cell_type": "code",
   "execution_count": null,
   "metadata": {},
   "outputs": [],
   "source": [
    "Vectorizer \n",
    "Vectorize\n",
    "vector\n",
    "Vectoriser\n",
    "Vectorise"
   ]
  },
  {
   "cell_type": "code",
   "execution_count": null,
   "metadata": {},
   "outputs": [],
   "source": [
    "vector"
   ]
  },
  {
   "cell_type": "code",
   "execution_count": 107,
   "metadata": {},
   "outputs": [
    {
     "name": "stdout",
     "output_type": "stream",
     "text": [
      "Collecting package metadata (current_repodata.json): ...working... done\n",
      "Solving environment: ...working... done\n",
      "\n",
      "# All requested packages already installed.\n",
      "\n",
      "\n",
      "Note: you may need to restart the kernel to use updated packages.\n"
     ]
    }
   ],
   "source": [
    "conda install -c conda-forge textblob"
   ]
  },
  {
   "cell_type": "code",
   "execution_count": 109,
   "metadata": {},
   "outputs": [],
   "source": [
    "import os"
   ]
  },
  {
   "cell_type": "code",
   "execution_count": null,
   "metadata": {
    "collapsed": true
   },
   "outputs": [],
   "source": []
  }
 ],
 "metadata": {
  "kernelspec": {
   "display_name": "Python 3",
   "language": "python",
   "name": "python3"
  },
  "language_info": {
   "codemirror_mode": {
    "name": "ipython",
    "version": 3
   },
   "file_extension": ".py",
   "mimetype": "text/x-python",
   "name": "python",
   "nbconvert_exporter": "python",
   "pygments_lexer": "ipython3",
   "version": "3.8.5"
  }
 },
 "nbformat": 4,
 "nbformat_minor": 4
}
